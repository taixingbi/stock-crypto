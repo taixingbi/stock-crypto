{
 "cells": [
  {
   "cell_type": "code",
   "execution_count": 3,
   "id": "4e33aa70",
   "metadata": {},
   "outputs": [],
   "source": [
    "import requests        # for making http requests to binance\n",
    "import json            # for parsing what binance sends back to us\n",
    "import pandas as pd    # for storing and manipulating the data we get back\n",
    "import numpy as np\n",
    "import matplotlib.pyplot as plt # for charts and such  \n",
    "import datetime as dt  # for dealing with times\n",
    "\n",
    "def get_bars(symbol, interval = '1m'): # 1h \n",
    "    root_url = 'https://api.binance.com/api/v1/klines'\n",
    "    url = root_url + '?symbol=' + symbol + '&interval=' + interval\n",
    "    data = json.loads(requests.get(url).text)\n",
    "    df = pd.DataFrame(data)\n",
    "    \n",
    "    df.columns = [  'open_time',\n",
    "                    'o', 'h', 'l', 'c', 'v',\n",
    "                    'close_time', 'qav', 'num_trades',\n",
    "                    'taker_base_vol', 'taker_quote_vol', 'ignore']\n",
    "#     print(df)\n",
    "    \n",
    "    df.to_csv('data/' + symbol + '.csv')\n",
    "    df.index = [dt.datetime.fromtimestamp(x/1000.0) for x in df.close_time]\n",
    "    return df\n"
   ]
  },
  {
   "cell_type": "markdown",
   "id": "2a404ee2",
   "metadata": {},
   "source": [
    "[\"BTC\",\"LTC\",\"ETH\",\"NEO\",\"BNB\",\"QTUM\",\"EOS\",\"SNT\",\"BNT\",\"GAS\",\"BCC\",\"USDT\",\"HSR\",\"OAX\",\"DNT\",\"MCO\",\"ICN\",\"ZRX\",\"OMG\",\"WTC\",\"YOYO\",\"LRC\",\"TRX\",\"SNGLS\",\"STRAT\",\"BQX\",\"FUN\",\"KNC\",\"CDT\",\"XVG\",\"IOTA\",\"SNM\",\"LINK\",\"CVC\",\"TNT\",\"REP\",\"MDA\",\"MTL\",\"SALT\",\"NULS\",\"SUB\",\"STX\",\"MTH\",\"ADX\",\"ETC\",\"ENG\",\"ZEC\",\"AST\",\"GNT\",\"DGD\",\"BAT\",\"DASH\",\"POWR\",\"BTG\",\"REQ\",\"XMR\",\"EVX\",\"VIB\",\"ENJ\",\"VEN\",\"ARK\",\"XRP\",\"MOD\",\"STORJ\",\"KMD\",\"RCN\",\"EDO\",\"DATA\",\"DLT\",\"MANA\",\"PPT\",\"RDN\",\"GXS\",\"AMB\",\"ARN\",\"BCPT\",\"CND\",\"GVT\",\"POE\",\"BTS\",\"FUEL\",\"XZC\",\"QSP\",\"LSK\",\"BCD\",\"TNB\",\"ADA\",\"LEND\",\"XLM\",\"CMT\",\"WAVES\",\"WABI\",\"GTO\",\"ICX\",\"OST\",\"ELF\",\"AION\",\"WINGS\",\"BRD\",\"NEBL\",\"NAV\",\"VIBE\",\"LUN\",\"TRIG\",\"APPC\",\"CHAT\",\"RLC\",\"INS\",\"PIVX\",\"IOST\",\"STEEM\",\"NANO\",\"AE\",\"VIA\",\"BLZ\",\"SYS\",\"RPX\",\"NCASH\",\"POA\",\"ONT\",\"ZIL\",\"STORM\",\"XEM\",\"WAN\",\"WPR\",\"QLC\",\"GRS\",\"CLOAK\",\"LOOM\",\"BCN\",\"TUSD\",\"ZEN\",\"SKY\",\"THETA\",\"IOTX\",\"QKC\",\"AGI\",\"NXS\",\"SC\",\"NPXS\",\"KEY\",\"NAS\",\"MFT\",\"DENT\",\"IQ\",\"ARDR\",\"HOT\",\"VET\",\"DOCK\",\"POLY\",\"VTHO\",\"ONG\",\"PHX\",\"HC\",\"GO\",\"PAX\",\"RVN\",\"DCR\",\"USDC\",\"MITH\",\"BCHABC\",\"BCHSV\",\"REN\",\"BTT\",\"USDS\",\"FET\",\"TFUEL\",\"CELR\",\"MATIC\",\"ATOM\",\"PHB\",\"ONE\",\"FTM\",\"BTCB\",\"USDSB\",\"CHZ\",\"COS\",\"ALGO\",\"ERD\",\"DOGE\",\"BGBP\",\"DUSK\",\"ANKR\",\"WIN\",\"TUSDB\",\"COCOS\",\"PERL\",\"TOMO\",\"BUSD\",\"BAND\",\"BEAM\",\"HBAR\",\"XTZ\",\"NGN\",\"DGB\",\"NKN\",\"GBP\",\"EUR\",\"KAVA\",\"RUB\",\"UAH\",\"ARPA\",\"TRY\",\"CTXC\",\"AERGO\",\"BCH\",\"TROY\",\"BRL\",\"VITE\",\"FTT\",\"AUD\",\"OGN\",\"DREP\",\"BULL\",\"BEAR\",\"ETHBULL\",\"ETHBEAR\",\"XRPBULL\",\"XRPBEAR\",\"EOSBULL\",\"EOSBEAR\",\"TCT\",\"WRX\",\"LTO\",\"ZAR\",\"MBL\",\"COTI\",\"BKRW\",\"BNBBULL\",\"BNBBEAR\",\"HIVE\",\"STPT\",\"SOL\",\"IDRT\",\"CTSI\",\"CHR\",\"BTCUP\",\"BTCDOWN\",\"HNT\",\"JST\",\"FIO\",\"BIDR\",\"STMX\",\"MDT\",\"PNT\",\"COMP\",\"IRIS\",\"MKR\",\"SXP\",\"SNX\",\"DAI\",\"ETHUP\",\"ETHDOWN\",\"ADAUP\",\"ADADOWN\",\"LINKUP\",\"LINKDOWN\",\"DOT\",\"RUNE\",\"BNBUP\",\"BNBDOWN\",\"XTZUP\",\"XTZDOWN\",\"AVA\",\"BAL\",\"YFI\",\"SRM\",\"ANT\",\"CRV\",\"SAND\",\"OCEAN\",\"NMR\",\"LUNA\",\"IDEX\",\"RSR\",\"PAXG\",\"WNXM\",\"TRB\",\"EGLD\",\"BZRX\",\"WBTC\",\"KSM\",\"SUSHI\",\"YFII\",\"DIA\",\"BEL\",\"UMA\",\"EOSUP\",\"TRXUP\",\"EOSDOWN\",\"TRXDOWN\",\"XRPUP\",\"XRPDOWN\",\"DOTUP\",\"DOTDOWN\",\"NBS\",\"WING\",\"SWRV\",\"LTCUP\",\"LTCDOWN\",\"CREAM\",\"UNI\",\"OXT\",\"SUN\",\"AVAX\",\"BURGER\",\"BAKE\",\"FLM\",\"SCRT\",\"XVS\",\"CAKE\",\"SPARTA\",\"UNIUP\",\"UNIDOWN\",\"ALPHA\",\"ORN\",\"UTK\",\"NEAR\",\"VIDT\",\"AAVE\",\"FIL\",\"SXPUP\",\"SXPDOWN\",\"INJ\",\"FILDOWN\",\"FILUP\",\"YFIUP\",\"YFIDOWN\",\"CTK\",\"EASY\",\"AUDIO\",\"BCHUP\",\"BCHDOWN\",\"BOT\",\"AXS\",\"AKRO\",\"HARD\",\"KP3R\",\"RENBTC\",\"SLP\",\"STRAX\",\"UNFI\",\"CVP\",\"BCHA\",\"FOR\",\"FRONT\",\"ROSE\",\"HEGIC\",\"AAVEUP\",\"AAVEDOWN\",\"PROM\",\"BETH\",\"SKL\",\"GLM\",\"SUSD\",\"COVER\",\"GHST\",\"SUSHIUP\",\"SUSHIDOWN\",\"XLMUP\",\"XLMDOWN\",\"DF\",\"JUV\",\"PSG\",\"BVND\",\"GRT\",\"CELO\",\"TWT\",\"REEF\",\"OG\",\"ATM\",\"ASR\",\"1INCH\",\"RIF\",\"BTCST\",\"TRU\",\"DEXE\",\"CKB\",\"FIRO\",\"LIT\",\"PROS\",\"VAI\",\"SFP\",\"FXS\",\"DODO\",\"AUCTION\",\"UFT\",\"ACM\",\"PHA\",\"TVK\",\"BADGER\",\"FIS\",\"OM\",\"POND\",\"ALICE\",\"DEGO\",\"BIFI\",\"LINA\"]\n"
   ]
  },
  {
   "cell_type": "code",
   "execution_count": 29,
   "id": "b59ca1ad",
   "metadata": {},
   "outputs": [
    {
     "ename": "ValueError",
     "evalue": "If using all scalar values, you must pass an index",
     "output_type": "error",
     "traceback": [
      "\u001b[0;31m---------------------------------------------------------------------------\u001b[0m",
      "\u001b[0;31mValueError\u001b[0m                                Traceback (most recent call last)",
      "\u001b[0;32m<ipython-input-29-e6cc27b75da8>\u001b[0m in \u001b[0;36m<module>\u001b[0;34m\u001b[0m\n\u001b[1;32m      3\u001b[0m \u001b[0mticker\u001b[0m\u001b[0;34m=\u001b[0m \u001b[0;34m'SHIB/USDT'\u001b[0m\u001b[0;34m\u001b[0m\u001b[0;34m\u001b[0m\u001b[0m\n\u001b[1;32m      4\u001b[0m \u001b[0;34m\u001b[0m\u001b[0m\n\u001b[0;32m----> 5\u001b[0;31m \u001b[0mget_bars\u001b[0m\u001b[0;34m(\u001b[0m\u001b[0mticker\u001b[0m\u001b[0;34m)\u001b[0m\u001b[0;34m[\u001b[0m\u001b[0;34m'c'\u001b[0m\u001b[0;34m]\u001b[0m\u001b[0;34m.\u001b[0m\u001b[0mastype\u001b[0m\u001b[0;34m(\u001b[0m\u001b[0;34m'float'\u001b[0m\u001b[0;34m)\u001b[0m\u001b[0;34m.\u001b[0m\u001b[0mplot\u001b[0m\u001b[0;34m(\u001b[0m\u001b[0;34m)\u001b[0m\u001b[0;34m\u001b[0m\u001b[0;34m\u001b[0m\u001b[0m\n\u001b[0m",
      "\u001b[0;32m<ipython-input-7-ba8320d41739>\u001b[0m in \u001b[0;36mget_bars\u001b[0;34m(symbol, interval)\u001b[0m\n\u001b[1;32m      3\u001b[0m     \u001b[0murl\u001b[0m \u001b[0;34m=\u001b[0m \u001b[0mroot_url\u001b[0m \u001b[0;34m+\u001b[0m \u001b[0;34m'?symbol='\u001b[0m \u001b[0;34m+\u001b[0m \u001b[0msymbol\u001b[0m \u001b[0;34m+\u001b[0m \u001b[0;34m'&interval='\u001b[0m \u001b[0;34m+\u001b[0m \u001b[0minterval\u001b[0m\u001b[0;34m\u001b[0m\u001b[0;34m\u001b[0m\u001b[0m\n\u001b[1;32m      4\u001b[0m     \u001b[0mdata\u001b[0m \u001b[0;34m=\u001b[0m \u001b[0mjson\u001b[0m\u001b[0;34m.\u001b[0m\u001b[0mloads\u001b[0m\u001b[0;34m(\u001b[0m\u001b[0mrequests\u001b[0m\u001b[0;34m.\u001b[0m\u001b[0mget\u001b[0m\u001b[0;34m(\u001b[0m\u001b[0murl\u001b[0m\u001b[0;34m)\u001b[0m\u001b[0;34m.\u001b[0m\u001b[0mtext\u001b[0m\u001b[0;34m)\u001b[0m\u001b[0;34m\u001b[0m\u001b[0;34m\u001b[0m\u001b[0m\n\u001b[0;32m----> 5\u001b[0;31m     \u001b[0mdf\u001b[0m \u001b[0;34m=\u001b[0m \u001b[0mpd\u001b[0m\u001b[0;34m.\u001b[0m\u001b[0mDataFrame\u001b[0m\u001b[0;34m(\u001b[0m\u001b[0mdata\u001b[0m\u001b[0;34m)\u001b[0m\u001b[0;34m\u001b[0m\u001b[0;34m\u001b[0m\u001b[0m\n\u001b[0m\u001b[1;32m      6\u001b[0m \u001b[0;34m\u001b[0m\u001b[0m\n\u001b[1;32m      7\u001b[0m     df.columns = [  'open_time',\n",
      "\u001b[0;32m~/stock/my_env/lib/python3.8/site-packages/pandas/core/frame.py\u001b[0m in \u001b[0;36m__init__\u001b[0;34m(self, data, index, columns, dtype, copy)\u001b[0m\n\u001b[1;32m    527\u001b[0m \u001b[0;34m\u001b[0m\u001b[0m\n\u001b[1;32m    528\u001b[0m         \u001b[0;32melif\u001b[0m \u001b[0misinstance\u001b[0m\u001b[0;34m(\u001b[0m\u001b[0mdata\u001b[0m\u001b[0;34m,\u001b[0m \u001b[0mdict\u001b[0m\u001b[0;34m)\u001b[0m\u001b[0;34m:\u001b[0m\u001b[0;34m\u001b[0m\u001b[0;34m\u001b[0m\u001b[0m\n\u001b[0;32m--> 529\u001b[0;31m             \u001b[0mmgr\u001b[0m \u001b[0;34m=\u001b[0m \u001b[0minit_dict\u001b[0m\u001b[0;34m(\u001b[0m\u001b[0mdata\u001b[0m\u001b[0;34m,\u001b[0m \u001b[0mindex\u001b[0m\u001b[0;34m,\u001b[0m \u001b[0mcolumns\u001b[0m\u001b[0;34m,\u001b[0m \u001b[0mdtype\u001b[0m\u001b[0;34m=\u001b[0m\u001b[0mdtype\u001b[0m\u001b[0;34m)\u001b[0m\u001b[0;34m\u001b[0m\u001b[0;34m\u001b[0m\u001b[0m\n\u001b[0m\u001b[1;32m    530\u001b[0m         \u001b[0;32melif\u001b[0m \u001b[0misinstance\u001b[0m\u001b[0;34m(\u001b[0m\u001b[0mdata\u001b[0m\u001b[0;34m,\u001b[0m \u001b[0mma\u001b[0m\u001b[0;34m.\u001b[0m\u001b[0mMaskedArray\u001b[0m\u001b[0;34m)\u001b[0m\u001b[0;34m:\u001b[0m\u001b[0;34m\u001b[0m\u001b[0;34m\u001b[0m\u001b[0m\n\u001b[1;32m    531\u001b[0m             \u001b[0;32mimport\u001b[0m \u001b[0mnumpy\u001b[0m\u001b[0;34m.\u001b[0m\u001b[0mma\u001b[0m\u001b[0;34m.\u001b[0m\u001b[0mmrecords\u001b[0m \u001b[0;32mas\u001b[0m \u001b[0mmrecords\u001b[0m\u001b[0;34m\u001b[0m\u001b[0;34m\u001b[0m\u001b[0m\n",
      "\u001b[0;32m~/stock/my_env/lib/python3.8/site-packages/pandas/core/internals/construction.py\u001b[0m in \u001b[0;36minit_dict\u001b[0;34m(data, index, columns, dtype)\u001b[0m\n\u001b[1;32m    285\u001b[0m             \u001b[0marr\u001b[0m \u001b[0;32mif\u001b[0m \u001b[0;32mnot\u001b[0m \u001b[0mis_datetime64tz_dtype\u001b[0m\u001b[0;34m(\u001b[0m\u001b[0marr\u001b[0m\u001b[0;34m)\u001b[0m \u001b[0;32melse\u001b[0m \u001b[0marr\u001b[0m\u001b[0;34m.\u001b[0m\u001b[0mcopy\u001b[0m\u001b[0;34m(\u001b[0m\u001b[0;34m)\u001b[0m \u001b[0;32mfor\u001b[0m \u001b[0marr\u001b[0m \u001b[0;32min\u001b[0m \u001b[0marrays\u001b[0m\u001b[0;34m\u001b[0m\u001b[0;34m\u001b[0m\u001b[0m\n\u001b[1;32m    286\u001b[0m         ]\n\u001b[0;32m--> 287\u001b[0;31m     \u001b[0;32mreturn\u001b[0m \u001b[0marrays_to_mgr\u001b[0m\u001b[0;34m(\u001b[0m\u001b[0marrays\u001b[0m\u001b[0;34m,\u001b[0m \u001b[0mdata_names\u001b[0m\u001b[0;34m,\u001b[0m \u001b[0mindex\u001b[0m\u001b[0;34m,\u001b[0m \u001b[0mcolumns\u001b[0m\u001b[0;34m,\u001b[0m \u001b[0mdtype\u001b[0m\u001b[0;34m=\u001b[0m\u001b[0mdtype\u001b[0m\u001b[0;34m)\u001b[0m\u001b[0;34m\u001b[0m\u001b[0;34m\u001b[0m\u001b[0m\n\u001b[0m\u001b[1;32m    288\u001b[0m \u001b[0;34m\u001b[0m\u001b[0m\n\u001b[1;32m    289\u001b[0m \u001b[0;34m\u001b[0m\u001b[0m\n",
      "\u001b[0;32m~/stock/my_env/lib/python3.8/site-packages/pandas/core/internals/construction.py\u001b[0m in \u001b[0;36marrays_to_mgr\u001b[0;34m(arrays, arr_names, index, columns, dtype, verify_integrity)\u001b[0m\n\u001b[1;32m     78\u001b[0m         \u001b[0;31m# figure out the index, if necessary\u001b[0m\u001b[0;34m\u001b[0m\u001b[0;34m\u001b[0m\u001b[0;34m\u001b[0m\u001b[0m\n\u001b[1;32m     79\u001b[0m         \u001b[0;32mif\u001b[0m \u001b[0mindex\u001b[0m \u001b[0;32mis\u001b[0m \u001b[0;32mNone\u001b[0m\u001b[0;34m:\u001b[0m\u001b[0;34m\u001b[0m\u001b[0;34m\u001b[0m\u001b[0m\n\u001b[0;32m---> 80\u001b[0;31m             \u001b[0mindex\u001b[0m \u001b[0;34m=\u001b[0m \u001b[0mextract_index\u001b[0m\u001b[0;34m(\u001b[0m\u001b[0marrays\u001b[0m\u001b[0;34m)\u001b[0m\u001b[0;34m\u001b[0m\u001b[0;34m\u001b[0m\u001b[0m\n\u001b[0m\u001b[1;32m     81\u001b[0m         \u001b[0;32melse\u001b[0m\u001b[0;34m:\u001b[0m\u001b[0;34m\u001b[0m\u001b[0;34m\u001b[0m\u001b[0m\n\u001b[1;32m     82\u001b[0m             \u001b[0mindex\u001b[0m \u001b[0;34m=\u001b[0m \u001b[0mensure_index\u001b[0m\u001b[0;34m(\u001b[0m\u001b[0mindex\u001b[0m\u001b[0;34m)\u001b[0m\u001b[0;34m\u001b[0m\u001b[0;34m\u001b[0m\u001b[0m\n",
      "\u001b[0;32m~/stock/my_env/lib/python3.8/site-packages/pandas/core/internals/construction.py\u001b[0m in \u001b[0;36mextract_index\u001b[0;34m(data)\u001b[0m\n\u001b[1;32m    389\u001b[0m \u001b[0;34m\u001b[0m\u001b[0m\n\u001b[1;32m    390\u001b[0m         \u001b[0;32mif\u001b[0m \u001b[0;32mnot\u001b[0m \u001b[0mindexes\u001b[0m \u001b[0;32mand\u001b[0m \u001b[0;32mnot\u001b[0m \u001b[0mraw_lengths\u001b[0m\u001b[0;34m:\u001b[0m\u001b[0;34m\u001b[0m\u001b[0;34m\u001b[0m\u001b[0m\n\u001b[0;32m--> 391\u001b[0;31m             \u001b[0;32mraise\u001b[0m \u001b[0mValueError\u001b[0m\u001b[0;34m(\u001b[0m\u001b[0;34m\"If using all scalar values, you must pass an index\"\u001b[0m\u001b[0;34m)\u001b[0m\u001b[0;34m\u001b[0m\u001b[0;34m\u001b[0m\u001b[0m\n\u001b[0m\u001b[1;32m    392\u001b[0m \u001b[0;34m\u001b[0m\u001b[0m\n\u001b[1;32m    393\u001b[0m         \u001b[0;32mif\u001b[0m \u001b[0mhave_series\u001b[0m\u001b[0;34m:\u001b[0m\u001b[0;34m\u001b[0m\u001b[0;34m\u001b[0m\u001b[0m\n",
      "\u001b[0;31mValueError\u001b[0m: If using all scalar values, you must pass an index"
     ]
    }
   ],
   "source": [
    "ticker= 'ETHBTC'\n",
    "ticker= 'DOGEBTC'\n",
    "ticker= 'SHIBUSDT'\n",
    "\n",
    "get_bars(ticker)['c'].astype('float').plot()"
   ]
  },
  {
   "cell_type": "code",
   "execution_count": null,
   "id": "1ec09c05",
   "metadata": {},
   "outputs": [],
   "source": []
  }
 ],
 "metadata": {
  "kernelspec": {
   "display_name": "Python 3",
   "language": "python",
   "name": "python3"
  },
  "language_info": {
   "codemirror_mode": {
    "name": "ipython",
    "version": 3
   },
   "file_extension": ".py",
   "mimetype": "text/x-python",
   "name": "python",
   "nbconvert_exporter": "python",
   "pygments_lexer": "ipython3",
   "version": "3.8.10"
  }
 },
 "nbformat": 4,
 "nbformat_minor": 5
}
