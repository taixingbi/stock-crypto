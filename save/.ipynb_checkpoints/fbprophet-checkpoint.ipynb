{
 "cells": [
  {
   "cell_type": "code",
   "execution_count": 8,
   "id": "a7e9f106",
   "metadata": {},
   "outputs": [
    {
     "name": "stdout",
     "output_type": "stream",
     "text": [
      "done\n"
     ]
    }
   ],
   "source": [
    "import numpy as np \n",
    "import pandas as pd \n",
    "from datetime import datetime\n",
    "\n",
    "import seaborn as sns\n",
    "sns.set(rc={'figure.figsize':(10,6)})\n",
    "custom_colors = [\"#4e89ae\", \"#c56183\",\"#ed6663\",\"#ffa372\"]\n",
    "\n",
    "import matplotlib.pyplot as plt\n",
    "import matplotlib.image as mpimg\n",
    "\n",
    "from colorama import Fore, Back, Style # For text colors\n",
    "y_= Fore.CYAN\n",
    "m_= Fore.WHITE\n",
    "\n",
    "#NetworkX\n",
    "import networkx as nx\n",
    "import plotly.graph_objects as go #To construct network graphs\n",
    "\n",
    "#To avoid printing of un necessary Deprecation warning and future warnings!\n",
    "import warnings\n",
    "warnings.filterwarnings(\"ignore\", category=DeprecationWarning)\n",
    "warnings.filterwarnings(\"ignore\", category=FutureWarning)\n",
    "\n",
    "\n",
    "from statsmodels.tsa.seasonal import seasonal_decompose\n",
    "from statsmodels.tsa.stattools import kpss\n",
    "from statsmodels.tsa.stattools import adfuller\n",
    "from statsmodels.graphics.tsaplots import plot_acf, plot_pacf\n",
    "\n",
    "# from fbprophet import Prophet\n",
    "# from fbprophet.diagnostics import cross_validation, performance_metrics\n",
    "# from fbprophet.plot import add_changepoints_to_plot, plot_cross_validation_metric\n",
    "\n",
    "import os\n",
    "import pandas as pd\n",
    "\n",
    "print(\"done\")"
   ]
  },
  {
   "cell_type": "code",
   "execution_count": 9,
   "id": "2885a0b0",
   "metadata": {},
   "outputs": [
    {
     "name": "stdout",
     "output_type": "stream",
     "text": [
      "(2429, 7)\n"
     ]
    },
    {
     "data": {
      "text/html": [
       "<div>\n",
       "<style scoped>\n",
       "    .dataframe tbody tr th:only-of-type {\n",
       "        vertical-align: middle;\n",
       "    }\n",
       "\n",
       "    .dataframe tbody tr th {\n",
       "        vertical-align: top;\n",
       "    }\n",
       "\n",
       "    .dataframe thead th {\n",
       "        text-align: right;\n",
       "    }\n",
       "</style>\n",
       "<table border=\"1\" class=\"dataframe\">\n",
       "  <thead>\n",
       "    <tr style=\"text-align: right;\">\n",
       "      <th></th>\n",
       "      <th>Date</th>\n",
       "      <th>Open</th>\n",
       "      <th>High</th>\n",
       "      <th>Low</th>\n",
       "      <th>Close</th>\n",
       "      <th>Adj Close</th>\n",
       "      <th>Volume</th>\n",
       "    </tr>\n",
       "  </thead>\n",
       "  <tbody>\n",
       "    <tr>\n",
       "      <th>0</th>\n",
       "      <td>2014-09-17</td>\n",
       "      <td>0.000293</td>\n",
       "      <td>0.000299</td>\n",
       "      <td>0.000260</td>\n",
       "      <td>0.000268</td>\n",
       "      <td>0.000268</td>\n",
       "      <td>1463600.0</td>\n",
       "    </tr>\n",
       "    <tr>\n",
       "      <th>1</th>\n",
       "      <td>2014-09-18</td>\n",
       "      <td>0.000268</td>\n",
       "      <td>0.000325</td>\n",
       "      <td>0.000267</td>\n",
       "      <td>0.000298</td>\n",
       "      <td>0.000298</td>\n",
       "      <td>2215910.0</td>\n",
       "    </tr>\n",
       "    <tr>\n",
       "      <th>2</th>\n",
       "      <td>2014-09-19</td>\n",
       "      <td>0.000298</td>\n",
       "      <td>0.000307</td>\n",
       "      <td>0.000275</td>\n",
       "      <td>0.000277</td>\n",
       "      <td>0.000277</td>\n",
       "      <td>883563.0</td>\n",
       "    </tr>\n",
       "    <tr>\n",
       "      <th>3</th>\n",
       "      <td>2014-09-20</td>\n",
       "      <td>0.000276</td>\n",
       "      <td>0.000310</td>\n",
       "      <td>0.000267</td>\n",
       "      <td>0.000292</td>\n",
       "      <td>0.000292</td>\n",
       "      <td>993004.0</td>\n",
       "    </tr>\n",
       "    <tr>\n",
       "      <th>4</th>\n",
       "      <td>2014-09-21</td>\n",
       "      <td>0.000293</td>\n",
       "      <td>0.000299</td>\n",
       "      <td>0.000284</td>\n",
       "      <td>0.000288</td>\n",
       "      <td>0.000288</td>\n",
       "      <td>539140.0</td>\n",
       "    </tr>\n",
       "  </tbody>\n",
       "</table>\n",
       "</div>"
      ],
      "text/plain": [
       "        Date      Open      High       Low     Close  Adj Close     Volume\n",
       "0 2014-09-17  0.000293  0.000299  0.000260  0.000268   0.000268  1463600.0\n",
       "1 2014-09-18  0.000268  0.000325  0.000267  0.000298   0.000298  2215910.0\n",
       "2 2014-09-19  0.000298  0.000307  0.000275  0.000277   0.000277   883563.0\n",
       "3 2014-09-20  0.000276  0.000310  0.000267  0.000292   0.000292   993004.0\n",
       "4 2014-09-21  0.000293  0.000299  0.000284  0.000288   0.000288   539140.0"
      ]
     },
     "execution_count": 9,
     "metadata": {},
     "output_type": "execute_result"
    }
   ],
   "source": [
    "data= pd.read_csv('data/DOGE-USD.csv')\n",
    "print(data.shape)\n",
    "\n",
    "data['Date'] =  pd.to_datetime(data['Date'],infer_datetime_format=True,format='%y-%m-%d')\n",
    "data.sort_values(by='Date',inplace=True)\n",
    "data.head()\n"
   ]
  },
  {
   "cell_type": "code",
   "execution_count": 10,
   "id": "d2460e67",
   "metadata": {},
   "outputs": [
    {
     "data": {
      "image/png": "[encoded data removed]",
      "text/plain": [
       "<Figure size 720x432 with 1 Axes>"
      ]
     },
     "metadata": {},
     "output_type": "display_data"
    }
   ],
   "source": [
    "missed = pd.DataFrame()\n",
    "missed['column'] = data.columns\n",
    "\n",
    "missed['percent'] = [round(100* data[col].isnull().sum() / len(data), 2) for col in data.columns]\n",
    "missed = missed.sort_values('percent',ascending=False)\n",
    "missed = missed[missed['percent']>0]\n",
    "\n",
    "fig = sns.barplot(\n",
    "    x=missed['percent'], \n",
    "    y=missed[\"column\"], \n",
    "    orientation='horizontal',palette=\"winter\"\n",
    ").set_title('Missed values percent for every column')"
   ]
  },
  {
   "cell_type": "code",
   "execution_count": 11,
   "id": "95d19ecd",
   "metadata": {},
   "outputs": [
    {
     "name": "stdout",
     "output_type": "stream",
     "text": [
      "\u001b[37mTotal records after the removal of NA values: \u001b[36m(2424, 7)\n",
      "\n",
      "\u001b[37mRemoved records:\u001b[36m5\n",
      "\n",
      "\u001b[37mRemoved records percentage:\u001b[36m0.21\n"
     ]
    }
   ],
   "source": [
    "prev_len=data.shape[0]\n",
    "data=data.dropna()\n",
    "print(f\"{m_}Total records after the removal of NA values: {y_}{data.shape}\\n\")\n",
    "print(f\"{m_}Removed records:{y_}{prev_len-data.shape[0]}\\n\")\n",
    "print(f\"{m_}Removed records percentage:{y_}{round(((prev_len-data.shape[0])/prev_len)*100,2)}\")"
   ]
  },
  {
   "cell_type": "code",
   "execution_count": 12,
   "id": "3dfbb746",
   "metadata": {},
   "outputs": [],
   "source": [
    "def triple_plot(x, title,c):\n",
    "    fig, ax = plt.subplots(3,1,figsize=(20,10),sharex=True)\n",
    "    sns.distplot(x, ax=ax[0],color=c)\n",
    "    ax[0].set(xlabel=None)\n",
    "    ax[0].set_title('Histogram + KDE')\n",
    "    sns.boxplot(x, ax=ax[1],color=c)\n",
    "    ax[1].set(xlabel=None)\n",
    "    ax[1].set_title('Boxplot')\n",
    "    sns.violinplot(x, ax=ax[2],color=c)\n",
    "    ax[2].set(xlabel=None)\n",
    "    ax[2].set_title('Violin plot')\n",
    "    fig.suptitle(title, fontsize=30)\n",
    "    plt.tight_layout(pad=3.0)\n",
    "    plt.show()\n",
    "\n",
    "triple_plot(data['Open'],'Distribution of Opening Price(in dollars)',custom_colors[0])"
   ]
  },
  {
   "cell_type": "code",
   "execution_count": null,
   "id": "6ebeec90",
   "metadata": {},
   "outputs": [],
   "source": []
  },
  {
   "cell_type": "code",
   "execution_count": null,
   "id": "4e7896c5",
   "metadata": {},
   "outputs": [],
   "source": []
  }
 ],
 "metadata": {
  "kernelspec": {
   "display_name": "Python 3",
   "language": "python",
   "name": "python3"
  },
  "language_info": {
   "codemirror_mode": {
    "name": "ipython",
    "version": 3
   },
   "file_extension": ".py",
   "mimetype": "text/x-python",
   "name": "python",
   "nbconvert_exporter": "python",
   "pygments_lexer": "ipython3",
   "version": "3.8.10"
  }
 },
 "nbformat": 4,
 "nbformat_minor": 5
}
