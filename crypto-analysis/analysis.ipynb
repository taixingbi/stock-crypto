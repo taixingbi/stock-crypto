{
 "cells": [
  {
   "cell_type": "code",
   "execution_count": 1,
   "id": "8fbd0d99",
   "metadata": {},
   "outputs": [],
   "source": [
    "import pandas as pd\n",
    "import matplotlib"
   ]
  },
  {
   "cell_type": "code",
   "execution_count": 2,
   "id": "92cf127a",
   "metadata": {},
   "outputs": [],
   "source": [
    "def getData(ticker):\n",
    "    df = pd.read_csv(\"../data/\"+ ticker + \".csv\" )\n",
    "    df = df[['open_time', 'c']]\n",
    "    df= df.rename(columns={\"c\": ticker.split(\"USDT\")[0] })\n",
    "    df= df.set_index('open_time')\n",
    "\n",
    "    return df\n",
    "\n",
    "df_BTC= getData(\"BTCUSDT-1April2021-1m\")\n",
    "df_DOGE= getData(\"DOGEUSDT-1April2021-1m\")\n",
    "df_SHIB= getData(\"SHIBUSDT-1April2021-1m\")\n",
    "df_ETH= getData(\"ETHUSDT-1April2021-1m\")"
   ]
  },
  {
   "cell_type": "code",
   "execution_count": 3,
   "id": "87fc1273",
   "metadata": {},
   "outputs": [
    {
     "data": {
      "text/html": [
       "<div>\n",
       "<style scoped>\n",
       "    .dataframe tbody tr th:only-of-type {\n",
       "        vertical-align: middle;\n",
       "    }\n",
       "\n",
       "    .dataframe tbody tr th {\n",
       "        vertical-align: top;\n",
       "    }\n",
       "\n",
       "    .dataframe thead th {\n",
       "        text-align: right;\n",
       "    }\n",
       "</style>\n",
       "<table border=\"1\" class=\"dataframe\">\n",
       "  <thead>\n",
       "    <tr style=\"text-align: right;\">\n",
       "      <th></th>\n",
       "      <th>ETH</th>\n",
       "    </tr>\n",
       "    <tr>\n",
       "      <th>open_time</th>\n",
       "      <th></th>\n",
       "    </tr>\n",
       "  </thead>\n",
       "  <tbody>\n",
       "    <tr>\n",
       "      <th>2021-03-31 20:00:00</th>\n",
       "      <td>1930.38</td>\n",
       "    </tr>\n",
       "    <tr>\n",
       "      <th>2021-03-31 20:01:00</th>\n",
       "      <td>1932.49</td>\n",
       "    </tr>\n",
       "    <tr>\n",
       "      <th>2021-03-31 20:02:00</th>\n",
       "      <td>1936.09</td>\n",
       "    </tr>\n",
       "    <tr>\n",
       "      <th>2021-03-31 20:03:00</th>\n",
       "      <td>1936.96</td>\n",
       "    </tr>\n",
       "    <tr>\n",
       "      <th>2021-03-31 20:04:00</th>\n",
       "      <td>1934.49</td>\n",
       "    </tr>\n",
       "  </tbody>\n",
       "</table>\n",
       "</div>"
      ],
      "text/plain": [
       "                         ETH\n",
       "open_time                   \n",
       "2021-03-31 20:00:00  1930.38\n",
       "2021-03-31 20:01:00  1932.49\n",
       "2021-03-31 20:02:00  1936.09\n",
       "2021-03-31 20:03:00  1936.96\n",
       "2021-03-31 20:04:00  1934.49"
      ]
     },
     "execution_count": 3,
     "metadata": {},
     "output_type": "execute_result"
    }
   ],
   "source": [
    "df_ETH= df_ETH \n",
    "df_ETH.head()"
   ]
  },
  {
   "cell_type": "code",
   "execution_count": 4,
   "id": "73e06981",
   "metadata": {},
   "outputs": [
    {
     "data": {
      "text/html": [
       "<div>\n",
       "<style scoped>\n",
       "    .dataframe tbody tr th:only-of-type {\n",
       "        vertical-align: middle;\n",
       "    }\n",
       "\n",
       "    .dataframe tbody tr th {\n",
       "        vertical-align: top;\n",
       "    }\n",
       "\n",
       "    .dataframe thead th {\n",
       "        text-align: right;\n",
       "    }\n",
       "</style>\n",
       "<table border=\"1\" class=\"dataframe\">\n",
       "  <thead>\n",
       "    <tr style=\"text-align: right;\">\n",
       "      <th></th>\n",
       "      <th>DOGE</th>\n",
       "    </tr>\n",
       "    <tr>\n",
       "      <th>open_time</th>\n",
       "      <th></th>\n",
       "    </tr>\n",
       "  </thead>\n",
       "  <tbody>\n",
       "    <tr>\n",
       "      <th>2021-03-31 20:00:00</th>\n",
       "      <td>0.053957</td>\n",
       "    </tr>\n",
       "    <tr>\n",
       "      <th>2021-03-31 20:01:00</th>\n",
       "      <td>0.053961</td>\n",
       "    </tr>\n",
       "    <tr>\n",
       "      <th>2021-03-31 20:02:00</th>\n",
       "      <td>0.053974</td>\n",
       "    </tr>\n",
       "    <tr>\n",
       "      <th>2021-03-31 20:03:00</th>\n",
       "      <td>0.053977</td>\n",
       "    </tr>\n",
       "    <tr>\n",
       "      <th>2021-03-31 20:04:00</th>\n",
       "      <td>0.053941</td>\n",
       "    </tr>\n",
       "  </tbody>\n",
       "</table>\n",
       "</div>"
      ],
      "text/plain": [
       "                         DOGE\n",
       "open_time                    \n",
       "2021-03-31 20:00:00  0.053957\n",
       "2021-03-31 20:01:00  0.053961\n",
       "2021-03-31 20:02:00  0.053974\n",
       "2021-03-31 20:03:00  0.053977\n",
       "2021-03-31 20:04:00  0.053941"
      ]
     },
     "execution_count": 4,
     "metadata": {},
     "output_type": "execute_result"
    }
   ],
   "source": [
    "df_DOGE.head()"
   ]
  },
  {
   "cell_type": "code",
   "execution_count": 5,
   "id": "5c7452d8",
   "metadata": {},
   "outputs": [
    {
     "data": {
      "text/html": [
       "<div>\n",
       "<style scoped>\n",
       "    .dataframe tbody tr th:only-of-type {\n",
       "        vertical-align: middle;\n",
       "    }\n",
       "\n",
       "    .dataframe tbody tr th {\n",
       "        vertical-align: top;\n",
       "    }\n",
       "\n",
       "    .dataframe thead th {\n",
       "        text-align: right;\n",
       "    }\n",
       "</style>\n",
       "<table border=\"1\" class=\"dataframe\">\n",
       "  <thead>\n",
       "    <tr style=\"text-align: right;\">\n",
       "      <th></th>\n",
       "      <th>SHIB</th>\n",
       "    </tr>\n",
       "    <tr>\n",
       "      <th>open_time</th>\n",
       "      <th></th>\n",
       "    </tr>\n",
       "  </thead>\n",
       "  <tbody>\n",
       "    <tr>\n",
       "      <th>2021-05-10 07:00:00</th>\n",
       "      <td>0.000033</td>\n",
       "    </tr>\n",
       "    <tr>\n",
       "      <th>2021-05-10 07:01:00</th>\n",
       "      <td>0.000032</td>\n",
       "    </tr>\n",
       "    <tr>\n",
       "      <th>2021-05-10 07:02:00</th>\n",
       "      <td>0.000030</td>\n",
       "    </tr>\n",
       "    <tr>\n",
       "      <th>2021-05-10 07:03:00</th>\n",
       "      <td>0.000030</td>\n",
       "    </tr>\n",
       "    <tr>\n",
       "      <th>2021-05-10 07:04:00</th>\n",
       "      <td>0.000027</td>\n",
       "    </tr>\n",
       "  </tbody>\n",
       "</table>\n",
       "</div>"
      ],
      "text/plain": [
       "                         SHIB\n",
       "open_time                    \n",
       "2021-05-10 07:00:00  0.000033\n",
       "2021-05-10 07:01:00  0.000032\n",
       "2021-05-10 07:02:00  0.000030\n",
       "2021-05-10 07:03:00  0.000030\n",
       "2021-05-10 07:04:00  0.000027"
      ]
     },
     "execution_count": 5,
     "metadata": {},
     "output_type": "execute_result"
    }
   ],
   "source": [
    "df_SHIB.head()"
   ]
  },
  {
   "cell_type": "code",
   "execution_count": 22,
   "id": "ec978607",
   "metadata": {},
   "outputs": [
    {
     "data": {
      "text/html": [
       "<div>\n",
       "<style scoped>\n",
       "    .dataframe tbody tr th:only-of-type {\n",
       "        vertical-align: middle;\n",
       "    }\n",
       "\n",
       "    .dataframe tbody tr th {\n",
       "        vertical-align: top;\n",
       "    }\n",
       "\n",
       "    .dataframe thead th {\n",
       "        text-align: right;\n",
       "    }\n",
       "</style>\n",
       "<table border=\"1\" class=\"dataframe\">\n",
       "  <thead>\n",
       "    <tr style=\"text-align: right;\">\n",
       "      <th></th>\n",
       "      <th>BTC</th>\n",
       "      <th>DOGE</th>\n",
       "    </tr>\n",
       "    <tr>\n",
       "      <th>open_time</th>\n",
       "      <th></th>\n",
       "      <th></th>\n",
       "    </tr>\n",
       "  </thead>\n",
       "  <tbody>\n",
       "    <tr>\n",
       "      <th>2021-03-31 20:00:00</th>\n",
       "      <td>58795.74</td>\n",
       "      <td>5395.71</td>\n",
       "    </tr>\n",
       "    <tr>\n",
       "      <th>2021-03-31 20:01:00</th>\n",
       "      <td>58815.42</td>\n",
       "      <td>5396.07</td>\n",
       "    </tr>\n",
       "    <tr>\n",
       "      <th>2021-03-31 20:02:00</th>\n",
       "      <td>58963.41</td>\n",
       "      <td>5397.39</td>\n",
       "    </tr>\n",
       "    <tr>\n",
       "      <th>2021-03-31 20:03:00</th>\n",
       "      <td>59063.13</td>\n",
       "      <td>5397.70</td>\n",
       "    </tr>\n",
       "    <tr>\n",
       "      <th>2021-03-31 20:04:00</th>\n",
       "      <td>59061.14</td>\n",
       "      <td>5394.05</td>\n",
       "    </tr>\n",
       "  </tbody>\n",
       "</table>\n",
       "</div>"
      ],
      "text/plain": [
       "                          BTC     DOGE\n",
       "open_time                             \n",
       "2021-03-31 20:00:00  58795.74  5395.71\n",
       "2021-03-31 20:01:00  58815.42  5396.07\n",
       "2021-03-31 20:02:00  58963.41  5397.39\n",
       "2021-03-31 20:03:00  59063.13  5397.70\n",
       "2021-03-31 20:04:00  59061.14  5394.05"
      ]
     },
     "execution_count": 22,
     "metadata": {},
     "output_type": "execute_result"
    }
   ],
   "source": [
    "df= df_BTC.join(df_DOGE*100000, how='inner')\n",
    "df.head()"
   ]
  },
  {
   "cell_type": "code",
   "execution_count": 23,
   "id": "491c0323",
   "metadata": {},
   "outputs": [
    {
     "data": {
      "text/plain": [
       "<AxesSubplot:xlabel='open_time'>"
      ]
     },
     "execution_count": 23,
     "metadata": {},
     "output_type": "execute_result"
    },
    {
     "data": {
      "image/png": "[encoded data removed]",
      "text/plain": [
       "<Figure size 432x288 with 1 Axes>"
      ]
     },
     "metadata": {
      "needs_background": "light"
     },
     "output_type": "display_data"
    }
   ],
   "source": [
    "df.plot.line()"
   ]
  },
  {
   "cell_type": "code",
   "execution_count": 25,
   "id": "3f00ade0",
   "metadata": {},
   "outputs": [
    {
     "data": {
      "text/html": [
       "<div>\n",
       "<style scoped>\n",
       "    .dataframe tbody tr th:only-of-type {\n",
       "        vertical-align: middle;\n",
       "    }\n",
       "\n",
       "    .dataframe tbody tr th {\n",
       "        vertical-align: top;\n",
       "    }\n",
       "\n",
       "    .dataframe thead th {\n",
       "        text-align: right;\n",
       "    }\n",
       "</style>\n",
       "<table border=\"1\" class=\"dataframe\">\n",
       "  <thead>\n",
       "    <tr style=\"text-align: right;\">\n",
       "      <th></th>\n",
       "      <th>BTC</th>\n",
       "      <th>DOGE</th>\n",
       "    </tr>\n",
       "    <tr>\n",
       "      <th>open_time</th>\n",
       "      <th></th>\n",
       "      <th></th>\n",
       "    </tr>\n",
       "  </thead>\n",
       "  <tbody>\n",
       "    <tr>\n",
       "      <th>2021-06-25 22:32:00</th>\n",
       "      <td>1.396539e-04</td>\n",
       "      <td>0.000083</td>\n",
       "    </tr>\n",
       "    <tr>\n",
       "      <th>2021-06-25 22:33:00</th>\n",
       "      <td>1.159312e-03</td>\n",
       "      <td>0.001166</td>\n",
       "    </tr>\n",
       "    <tr>\n",
       "      <th>2021-06-25 22:34:00</th>\n",
       "      <td>-5.295555e-04</td>\n",
       "      <td>-0.001705</td>\n",
       "    </tr>\n",
       "    <tr>\n",
       "      <th>2021-06-25 22:35:00</th>\n",
       "      <td>-8.369645e-04</td>\n",
       "      <td>-0.001417</td>\n",
       "    </tr>\n",
       "    <tr>\n",
       "      <th>2021-06-25 22:36:00</th>\n",
       "      <td>1.216932e-04</td>\n",
       "      <td>-0.001669</td>\n",
       "    </tr>\n",
       "    <tr>\n",
       "      <th>2021-06-25 22:37:00</th>\n",
       "      <td>1.336571e-04</td>\n",
       "      <td>0.000376</td>\n",
       "    </tr>\n",
       "    <tr>\n",
       "      <th>2021-06-25 22:38:00</th>\n",
       "      <td>-6.105172e-04</td>\n",
       "      <td>-0.000836</td>\n",
       "    </tr>\n",
       "    <tr>\n",
       "      <th>2021-06-25 22:39:00</th>\n",
       "      <td>-2.469422e-04</td>\n",
       "      <td>-0.001254</td>\n",
       "    </tr>\n",
       "    <tr>\n",
       "      <th>2021-06-25 22:40:00</th>\n",
       "      <td>3.154574e-07</td>\n",
       "      <td>0.002721</td>\n",
       "    </tr>\n",
       "    <tr>\n",
       "      <th>2021-06-25 22:41:00</th>\n",
       "      <td>2.957728e-03</td>\n",
       "      <td>0.005261</td>\n",
       "    </tr>\n",
       "    <tr>\n",
       "      <th>2021-06-25 22:42:00</th>\n",
       "      <td>1.511931e-03</td>\n",
       "      <td>0.002326</td>\n",
       "    </tr>\n",
       "    <tr>\n",
       "      <th>2021-06-25 22:43:00</th>\n",
       "      <td>7.094439e-04</td>\n",
       "      <td>0.002321</td>\n",
       "    </tr>\n",
       "    <tr>\n",
       "      <th>2021-06-25 22:44:00</th>\n",
       "      <td>1.153324e-03</td>\n",
       "      <td>0.003969</td>\n",
       "    </tr>\n",
       "    <tr>\n",
       "      <th>2021-06-25 22:45:00</th>\n",
       "      <td>1.457313e-03</td>\n",
       "      <td>0.003171</td>\n",
       "    </tr>\n",
       "    <tr>\n",
       "      <th>2021-06-25 22:46:00</th>\n",
       "      <td>5.552831e-04</td>\n",
       "      <td>-0.000082</td>\n",
       "    </tr>\n",
       "    <tr>\n",
       "      <th>2021-06-25 22:47:00</th>\n",
       "      <td>9.932612e-04</td>\n",
       "      <td>0.001191</td>\n",
       "    </tr>\n",
       "    <tr>\n",
       "      <th>2021-06-25 22:48:00</th>\n",
       "      <td>-1.141039e-03</td>\n",
       "      <td>-0.001394</td>\n",
       "    </tr>\n",
       "    <tr>\n",
       "      <th>2021-06-25 22:49:00</th>\n",
       "      <td>8.425986e-04</td>\n",
       "      <td>0.001807</td>\n",
       "    </tr>\n",
       "    <tr>\n",
       "      <th>2021-06-25 22:50:00</th>\n",
       "      <td>-1.417738e-03</td>\n",
       "      <td>-0.004386</td>\n",
       "    </tr>\n",
       "    <tr>\n",
       "      <th>2021-06-25 22:51:00</th>\n",
       "      <td>-1.477668e-04</td>\n",
       "      <td>0.000865</td>\n",
       "    </tr>\n",
       "  </tbody>\n",
       "</table>\n",
       "</div>"
      ],
      "text/plain": [
       "                              BTC      DOGE\n",
       "open_time                                  \n",
       "2021-06-25 22:32:00  1.396539e-04  0.000083\n",
       "2021-06-25 22:33:00  1.159312e-03  0.001166\n",
       "2021-06-25 22:34:00 -5.295555e-04 -0.001705\n",
       "2021-06-25 22:35:00 -8.369645e-04 -0.001417\n",
       "2021-06-25 22:36:00  1.216932e-04 -0.001669\n",
       "2021-06-25 22:37:00  1.336571e-04  0.000376\n",
       "2021-06-25 22:38:00 -6.105172e-04 -0.000836\n",
       "2021-06-25 22:39:00 -2.469422e-04 -0.001254\n",
       "2021-06-25 22:40:00  3.154574e-07  0.002721\n",
       "2021-06-25 22:41:00  2.957728e-03  0.005261\n",
       "2021-06-25 22:42:00  1.511931e-03  0.002326\n",
       "2021-06-25 22:43:00  7.094439e-04  0.002321\n",
       "2021-06-25 22:44:00  1.153324e-03  0.003969\n",
       "2021-06-25 22:45:00  1.457313e-03  0.003171\n",
       "2021-06-25 22:46:00  5.552831e-04 -0.000082\n",
       "2021-06-25 22:47:00  9.932612e-04  0.001191\n",
       "2021-06-25 22:48:00 -1.141039e-03 -0.001394\n",
       "2021-06-25 22:49:00  8.425986e-04  0.001807\n",
       "2021-06-25 22:50:00 -1.417738e-03 -0.004386\n",
       "2021-06-25 22:51:00 -1.477668e-04  0.000865"
      ]
     },
     "execution_count": 25,
     "metadata": {},
     "output_type": "execute_result"
    }
   ],
   "source": [
    "df_pct=df.pct_change()\n",
    "df_pct.tail(20)"
   ]
  },
  {
   "cell_type": "code",
   "execution_count": 13,
   "id": "4891d715",
   "metadata": {},
   "outputs": [
    {
     "data": {
      "text/plain": [
       "<AxesSubplot:xlabel='open_time'>"
      ]
     },
     "execution_count": 13,
     "metadata": {},
     "output_type": "execute_result"
    },
    {
     "data": {
      "image/png": "[encoded data removed]",
      "text/plain": [
       "<Figure size 432x288 with 1 Axes>"
      ]
     },
     "metadata": {
      "needs_background": "light"
     },
     "output_type": "display_data"
    }
   ],
   "source": [
    "df_pct.plot.line()"
   ]
  },
  {
   "cell_type": "code",
   "execution_count": null,
   "id": "beccb139",
   "metadata": {},
   "outputs": [],
   "source": []
  },
  {
   "cell_type": "code",
   "execution_count": null,
   "id": "dabcb06f",
   "metadata": {},
   "outputs": [],
   "source": []
  },
  {
   "cell_type": "code",
   "execution_count": null,
   "id": "ad01a88f",
   "metadata": {},
   "outputs": [],
   "source": []
  },
  {
   "cell_type": "code",
   "execution_count": null,
   "id": "39488adf",
   "metadata": {},
   "outputs": [],
   "source": []
  },
  {
   "cell_type": "code",
   "execution_count": null,
   "id": "1d0e9455",
   "metadata": {},
   "outputs": [],
   "source": []
  }
 ],
 "metadata": {
  "kernelspec": {
   "display_name": "Python 3",
   "language": "python",
   "name": "python3"
  },
  "language_info": {
   "codemirror_mode": {
    "name": "ipython",
    "version": 3
   },
   "file_extension": ".py",
   "mimetype": "text/x-python",
   "name": "python",
   "nbconvert_exporter": "python",
   "pygments_lexer": "ipython3",
   "version": "3.8.10"
  }
 },
 "nbformat": 4,
 "nbformat_minor": 5
}
